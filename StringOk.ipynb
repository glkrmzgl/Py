{
 "cells": [
  {
   "cell_type": "markdown",
   "id": "48bd82d6",
   "metadata": {},
   "source": [
    "# STRİNG\n",
    "\n",
    "Karakterlerden oluşur. Her bir elemanı karakterdir."
   ]
  },
  {
   "cell_type": "markdown",
   "id": "e0ac483c",
   "metadata": {},
   "source": [
    "Tek çift ve üç tırnak içine yazılabilir."
   ]
  },
  {
   "cell_type": "markdown",
   "id": "7fbe19a8",
   "metadata": {},
   "source": [
    "## String İndeksleme ve String Parçalama"
   ]
  },
  {
   "cell_type": "markdown",
   "id": "d3352185",
   "metadata": {},
   "source": [
    "indeks: karakter yeri\n",
    "\n",
    "String içindeki her karakterin yeri vardir.\n",
    "\n",
    "İlk eleman: sıfır, son eleman: -1\n",
    "\n",
    "\n",
    "İndeks çağırma  [ ] (köşeli parantez ile yapılır.\n",
    "\n",
    "İndeks parçalama yapılışı: [başlama indeksi(dahil):bitiş indeksi(hariç):atlama değeri]\n",
    "\n"
   ]
  },
  {
   "cell_type": "code",
   "execution_count": 1,
   "id": "03c41bde",
   "metadata": {},
   "outputs": [],
   "source": [
    "string =  \"0123456\""
   ]
  },
  {
   "cell_type": "code",
   "execution_count": 2,
   "id": "a44e7f8e",
   "metadata": {},
   "outputs": [
    {
     "data": {
      "text/plain": [
       "'6543210'"
      ]
     },
     "execution_count": 2,
     "metadata": {},
     "output_type": "execute_result"
    }
   ],
   "source": [
    "string[::-1]\n",
    "#stringi ters çevirme"
   ]
  },
  {
   "cell_type": "code",
   "execution_count": 3,
   "id": "068e7137",
   "metadata": {},
   "outputs": [
    {
     "data": {
      "text/plain": [
       "'53'"
      ]
     },
     "execution_count": 3,
     "metadata": {},
     "output_type": "execute_result"
    }
   ],
   "source": [
    "string[-2:1:-2]"
   ]
  },
  {
   "cell_type": "code",
   "execution_count": 4,
   "id": "195f29ee",
   "metadata": {},
   "outputs": [
    {
     "data": {
      "text/plain": [
       "'0123456'"
      ]
     },
     "execution_count": 4,
     "metadata": {},
     "output_type": "execute_result"
    }
   ],
   "source": [
    "string[::]\n",
    "#başlangıç verilmezse baştan başlar.\n",
    "#bitiş verilmezse sona gider."
   ]
  },
  {
   "cell_type": "markdown",
   "id": "a20d342d",
   "metadata": {},
   "source": [
    " ## String Özellikleri"
   ]
  },
  {
   "cell_type": "markdown",
   "id": "9fa21392",
   "metadata": {},
   "source": [
    "len(string): string in uzunluğu"
   ]
  },
  {
   "cell_type": "code",
   "execution_count": 5,
   "id": "fa7fbde7",
   "metadata": {},
   "outputs": [
    {
     "data": {
      "text/plain": [
       "7"
      ]
     },
     "execution_count": 5,
     "metadata": {},
     "output_type": "execute_result"
    }
   ],
   "source": [
    "len(string)"
   ]
  },
  {
   "cell_type": "markdown",
   "id": "91c1e934",
   "metadata": {},
   "source": [
    "String değiştirme atama işlemiyle yapılabilir. Haricinde değiştirilemez."
   ]
  },
  {
   "cell_type": "markdown",
   "id": "2409d626",
   "metadata": {},
   "source": [
    "Stringlerde toplama işlemi:"
   ]
  },
  {
   "cell_type": "code",
   "execution_count": 6,
   "id": "06e73c90",
   "metadata": {},
   "outputs": [
    {
     "data": {
      "text/plain": [
       "'123456'"
      ]
     },
     "execution_count": 6,
     "metadata": {},
     "output_type": "execute_result"
    }
   ],
   "source": [
    "#yan yana yazdırır.\n",
    "a = \"123\"\n",
    "b = \"456\"\n",
    "c = a + b\n",
    "c"
   ]
  },
  {
   "cell_type": "markdown",
   "id": "34621bff",
   "metadata": {},
   "source": [
    "stringlerde çarpma: çarpım sayısı kadar yan yana yazdırır."
   ]
  },
  {
   "cell_type": "code",
   "execution_count": 7,
   "id": "d6943eaa",
   "metadata": {},
   "outputs": [
    {
     "data": {
      "text/plain": [
       "'123123123'"
      ]
     },
     "execution_count": 7,
     "metadata": {},
     "output_type": "execute_result"
    }
   ],
   "source": [
    "a * 3"
   ]
  },
  {
   "cell_type": "markdown",
   "id": "25979455",
   "metadata": {},
   "source": [
    "# METHODS"
   ]
  },
  {
   "cell_type": "code",
   "execution_count": 8,
   "id": "b5b13cf7",
   "metadata": {},
   "outputs": [
    {
     "data": {
      "text/plain": [
       "'Love'"
      ]
     },
     "execution_count": 8,
     "metadata": {},
     "output_type": "execute_result"
    }
   ],
   "source": [
    "\"love\".capitalize()\n",
    "#ilk hari büyütür."
   ]
  },
  {
   "cell_type": "code",
   "execution_count": 9,
   "id": "a2ca286c",
   "metadata": {},
   "outputs": [
    {
     "data": {
      "text/plain": [
       "'loooooove'"
      ]
     },
     "execution_count": 9,
     "metadata": {},
     "output_type": "execute_result"
    }
   ],
   "source": [
    "\"LoOoOoOve\".casefold()\n",
    "#büyük harfleri küçült."
   ]
  },
  {
   "cell_type": "code",
   "execution_count": 10,
   "id": "80ede2b1",
   "metadata": {},
   "outputs": [
    {
     "data": {
      "text/plain": [
       "'***love***'"
      ]
     },
     "execution_count": 10,
     "metadata": {},
     "output_type": "execute_result"
    }
   ],
   "source": [
    "\"love\".center(10,'*')\n",
    "#(genişlik,'karakter')\n",
    "#stringi ortalar genişliğini verilen karakterle arttırır."
   ]
  },
  {
   "cell_type": "code",
   "execution_count": 11,
   "id": "565aa16b",
   "metadata": {},
   "outputs": [
    {
     "data": {
      "text/plain": [
       "1"
      ]
     },
     "execution_count": 11,
     "metadata": {},
     "output_type": "execute_result"
    }
   ],
   "source": [
    "\"love\".count(\"o\",0,3)\n",
    "#şu indeksler arasında kaç tane o karakteri var\n",
    "#string.count(karakter,indeks başlangıç, indeks bitiş)\n",
    "#indeks girilmeyebilir"
   ]
  },
  {
   "cell_type": "code",
   "execution_count": 12,
   "id": "de51900a",
   "metadata": {},
   "outputs": [
    {
     "data": {
      "text/plain": [
       "b'love'"
      ]
     },
     "execution_count": 12,
     "metadata": {},
     "output_type": "execute_result"
    }
   ],
   "source": [
    "\"love\".encode()\n",
    "#stringi kodlar.Kodlama belirtilmezse UTF-8 kullanır."
   ]
  },
  {
   "cell_type": "code",
   "execution_count": 13,
   "id": "bac9f70d",
   "metadata": {},
   "outputs": [
    {
     "data": {
      "text/plain": [
       "True"
      ]
     },
     "execution_count": 13,
     "metadata": {},
     "output_type": "execute_result"
    }
   ],
   "source": [
    "\"love\".endswith(\"e\")\n",
    "#string şu karakterlemi bitiyor; True, False"
   ]
  },
  {
   "cell_type": "code",
   "execution_count": 14,
   "id": "e1d616a4",
   "metadata": {},
   "outputs": [
    {
     "name": "stdout",
     "output_type": "stream",
     "text": [
      "\n",
      "a\n",
      "b\n",
      "c\n"
     ]
    }
   ],
   "source": [
    "e ='''\n",
    "a\n",
    "b\n",
    "c'''\n",
    "print(e)"
   ]
  },
  {
   "cell_type": "code",
   "execution_count": 15,
   "id": "51529eb4",
   "metadata": {},
   "outputs": [
    {
     "data": {
      "text/plain": [
       "'\\na\\nb\\nc'"
      ]
     },
     "execution_count": 15,
     "metadata": {},
     "output_type": "execute_result"
    }
   ],
   "source": [
    "e.expandtabs()\n",
    "#satır başlarının kaçış dizisiyle yazılmış halini verir"
   ]
  },
  {
   "cell_type": "code",
   "execution_count": 16,
   "id": "aa21f3d3",
   "metadata": {},
   "outputs": [
    {
     "name": "stdout",
     "output_type": "stream",
     "text": [
      "\n",
      "a\n",
      "b\n",
      "c\n"
     ]
    }
   ],
   "source": [
    "print(\"\\na\\nb\\nc\")"
   ]
  },
  {
   "cell_type": "code",
   "execution_count": 17,
   "id": "9bfee301",
   "metadata": {},
   "outputs": [
    {
     "data": {
      "text/plain": [
       "2"
      ]
     },
     "execution_count": 17,
     "metadata": {},
     "output_type": "execute_result"
    }
   ],
   "source": [
    "\"0101010101010101\".find(\"0\",1,4)\n",
    "#string içinde aradığımız karakterin en düşük indekste olanını getirir.\n",
    "#indeks aralığı isteğe bağlı"
   ]
  },
  {
   "cell_type": "code",
   "execution_count": 18,
   "id": "f004bf10",
   "metadata": {},
   "outputs": [],
   "source": [
    "f = \"my name is  {name}, ı am {age} years old ,\""
   ]
  },
  {
   "cell_type": "code",
   "execution_count": 19,
   "id": "a4754ec7",
   "metadata": {},
   "outputs": [],
   "source": [
    "g = f.format(name = \"David\", age= \"23\")\n",
    "#stringte tanımlı yerleri biçimlendirir.\n",
    "#sınırsız argüman yazılabilir."
   ]
  },
  {
   "cell_type": "code",
   "execution_count": 20,
   "id": "67dfa47f",
   "metadata": {},
   "outputs": [
    {
     "data": {
      "text/plain": [
       "'my name is  David, ı am 23 years old ,'"
      ]
     },
     "execution_count": 20,
     "metadata": {},
     "output_type": "execute_result"
    }
   ],
   "source": [
    "g"
   ]
  },
  {
   "cell_type": "code",
   "execution_count": 21,
   "id": "38e7d3d8",
   "metadata": {},
   "outputs": [
    {
     "data": {
      "text/plain": [
       "'my name is  David, ı am 23 years old ,'"
      ]
     },
     "execution_count": 21,
     "metadata": {},
     "output_type": "execute_result"
    }
   ],
   "source": [
    "g.format_map(f)\n",
    "#maple aynı şekilde dict çağırıyor ama özel durumlar için. ARAŞTIR"
   ]
  },
  {
   "cell_type": "code",
   "execution_count": 22,
   "id": "3309d8a9",
   "metadata": {},
   "outputs": [
    {
     "data": {
      "text/plain": [
       "3"
      ]
     },
     "execution_count": 22,
     "metadata": {},
     "output_type": "execute_result"
    }
   ],
   "source": [
    "\"LoOoOoOve\".index(\"o\",3,5)\n",
    "#şu indeksler arasında(isteğe bağlı) ilk \"karakter\" hangi indekste?"
   ]
  },
  {
   "cell_type": "code",
   "execution_count": 23,
   "id": "8009bd86",
   "metadata": {},
   "outputs": [
    {
     "data": {
      "text/plain": [
       "False"
      ]
     },
     "execution_count": 23,
     "metadata": {},
     "output_type": "execute_result"
    }
   ],
   "source": [
    "\"121.12\".isalnum()\n",
    "#dizinin alfanümerik olup olmadığını sorgular; True,False\n",
    "#alfanümerik; sayı ve harflerden oluşan.\n",
    "#sembol görünce False döndürür."
   ]
  },
  {
   "cell_type": "code",
   "execution_count": 24,
   "id": "14fe8bee",
   "metadata": {},
   "outputs": [
    {
     "data": {
      "text/plain": [
       "False"
      ]
     },
     "execution_count": 24,
     "metadata": {},
     "output_type": "execute_result"
    }
   ],
   "source": [
    "\"43ed\".isalpha()\n",
    "#dizinin alfabetik olup olmadığını sorgular(sadece harf mi var ?);True, False"
   ]
  },
  {
   "cell_type": "code",
   "execution_count": 25,
   "id": "2033e92a",
   "metadata": {},
   "outputs": [
    {
     "data": {
      "text/plain": [
       "True"
      ]
     },
     "execution_count": 25,
     "metadata": {},
     "output_type": "execute_result"
    }
   ],
   "source": [
    "\"123abc\".isascii()\n",
    "#verinin ASCII standartlarında bir veri olup olmadığı;True, False\n",
    "#ASCII Latin alfabesi üzerine kurulu 7 bitlik bir karakter kümesi"
   ]
  },
  {
   "cell_type": "code",
   "execution_count": 26,
   "id": "0182f50c",
   "metadata": {},
   "outputs": [
    {
     "data": {
      "text/plain": [
       "False"
      ]
     },
     "execution_count": 26,
     "metadata": {},
     "output_type": "execute_result"
    }
   ],
   "source": [
    "str(10/2).isdecimal()\n",
    "#sayı onluk sistemde mi? True, "
   ]
  },
  {
   "cell_type": "code",
   "execution_count": 27,
   "id": "d78da65c",
   "metadata": {},
   "outputs": [
    {
     "data": {
      "text/plain": [
       "True"
      ]
     },
     "execution_count": 27,
     "metadata": {},
     "output_type": "execute_result"
    }
   ],
   "source": [
    "str(10*2).isdigit()\n",
    "#sayı onluk sistemde mi? True, False ARAŞTIR"
   ]
  },
  {
   "cell_type": "code",
   "execution_count": 28,
   "id": "ab09bc90",
   "metadata": {},
   "outputs": [
    {
     "data": {
      "text/plain": [
       "False"
      ]
     },
     "execution_count": 28,
     "metadata": {},
     "output_type": "execute_result"
    }
   ],
   "source": [
    "\"abc½\".isidentifier()\n",
    "# 0-9, a-z , _ içeren dizini True döndürür\n",
    "#yabancı sembol varsa False döndürür"
   ]
  },
  {
   "cell_type": "code",
   "execution_count": 29,
   "id": "d6319e99",
   "metadata": {},
   "outputs": [
    {
     "data": {
      "text/plain": [
       "True"
      ]
     },
     "execution_count": 29,
     "metadata": {},
     "output_type": "execute_result"
    }
   ],
   "source": [
    "\"aaaaaa\".islower()\n",
    "#dizinin hepsi küçük harf mi? True, False"
   ]
  },
  {
   "cell_type": "code",
   "execution_count": 30,
   "id": "e3512287",
   "metadata": {},
   "outputs": [
    {
     "data": {
      "text/plain": [
       "True"
      ]
     },
     "execution_count": 30,
     "metadata": {},
     "output_type": "execute_result"
    }
   ],
   "source": [
    "\"12345\".isnumeric()\n",
    "#nümerik(rakamsal) mi? True, False"
   ]
  },
  {
   "cell_type": "code",
   "execution_count": 31,
   "id": "c6030792",
   "metadata": {},
   "outputs": [
    {
     "data": {
      "text/plain": [
       "False"
      ]
     },
     "execution_count": 31,
     "metadata": {},
     "output_type": "execute_result"
    }
   ],
   "source": [
    "\"\\na\".isprintable()\n",
    "#tüm karakterler yazdırılabilirse True, değilse False döndürür."
   ]
  },
  {
   "cell_type": "code",
   "execution_count": 32,
   "id": "15e495bc",
   "metadata": {},
   "outputs": [
    {
     "data": {
      "text/plain": [
       "True"
      ]
     },
     "execution_count": 32,
     "metadata": {},
     "output_type": "execute_result"
    }
   ],
   "source": [
    "\"                                       \".isspace()\n",
    "#metindeki tüm karakterler boşluk mu? True, False"
   ]
  },
  {
   "cell_type": "code",
   "execution_count": 33,
   "id": "2812c693",
   "metadata": {},
   "outputs": [
    {
     "data": {
      "text/plain": [
       "True"
      ]
     },
     "execution_count": 33,
     "metadata": {},
     "output_type": "execute_result"
    }
   ],
   "source": [
    "\"Hello My Note Book\".istitle()\n",
    "#cümlenin bütün ögeleri büyük harfle başlıyor mu? True, False"
   ]
  },
  {
   "cell_type": "code",
   "execution_count": 34,
   "id": "d3d49e4b",
   "metadata": {},
   "outputs": [
    {
     "data": {
      "text/plain": [
       "True"
      ]
     },
     "execution_count": 34,
     "metadata": {},
     "output_type": "execute_result"
    }
   ],
   "source": [
    "(\"NUMPYNUMPY\").isupper()\n",
    "#bütün harfleri büyük mü? True, False"
   ]
  },
  {
   "cell_type": "code",
   "execution_count": 35,
   "id": "c4c072ec",
   "metadata": {},
   "outputs": [
    {
     "data": {
      "text/plain": [
       "' Hello MARİA Hello JOHNSON Hello JESUS Hello ROSE '"
      ]
     },
     "execution_count": 35,
     "metadata": {},
     "output_type": "execute_result"
    }
   ],
   "source": [
    "\"Hello\".join([\" \", \" MARİA \", \" JOHNSON \",\" JESUS \",\" ROSE \"])\n",
    "#verilen stringi listenin elemanları arasına atıp string olarak bastırır."
   ]
  },
  {
   "cell_type": "code",
   "execution_count": 36,
   "id": "c2bca734",
   "metadata": {},
   "outputs": [
    {
     "data": {
      "text/plain": [
       "'Ömeye ****'"
      ]
     },
     "execution_count": 36,
     "metadata": {},
     "output_type": "execute_result"
    }
   ],
   "source": [
    "\"Ömeye \".ljust(10,\"*\")\n",
    "#metin sola yaslı kalır. verilen karakterle stringi verilen uzunluğa tamamlar."
   ]
  },
  {
   "cell_type": "code",
   "execution_count": 37,
   "id": "6dade4e1",
   "metadata": {},
   "outputs": [
    {
     "data": {
      "text/plain": [
       "'say hallo'"
      ]
     },
     "execution_count": 37,
     "metadata": {},
     "output_type": "execute_result"
    }
   ],
   "source": [
    "\"SAY HALLO\".lower()\n",
    "#stringi küçük harflerle döndürür."
   ]
  },
  {
   "cell_type": "code",
   "execution_count": 38,
   "id": "adb84e36",
   "metadata": {},
   "outputs": [
    {
     "data": {
      "text/plain": [
       "'Güç Alırız Birbirimizden '"
      ]
     },
     "execution_count": 38,
     "metadata": {},
     "output_type": "execute_result"
    }
   ],
   "source": [
    "\"    Güç Alırız Birbirimizden \".lstrip()\n",
    "#stringin başındaki boşluğu kaldırır."
   ]
  },
  {
   "cell_type": "code",
   "execution_count": 39,
   "id": "51549a82",
   "metadata": {},
   "outputs": [
    {
     "data": {
      "text/plain": [
       "'0000001212'"
      ]
     },
     "execution_count": 39,
     "metadata": {},
     "output_type": "execute_result"
    }
   ],
   "source": [
    "\"1212\".zfill(10)\n",
    "#nümerik ifadenin soluna verilen uzunluğa ulaşana kadar sıfır ekler."
   ]
  },
  {
   "cell_type": "code",
   "execution_count": 40,
   "id": "86a8f538",
   "metadata": {},
   "outputs": [
    {
     "data": {
      "text/plain": [
       "'ÇALINANI BIZE GERI VEREMEZLER'"
      ]
     },
     "execution_count": 40,
     "metadata": {},
     "output_type": "execute_result"
    }
   ],
   "source": [
    "\"çalınanı bize geri veremezler\".upper()\n",
    "#stringin tüm harflerini büyütür."
   ]
  },
  {
   "cell_type": "code",
   "execution_count": 61,
   "id": "5ce27c77",
   "metadata": {},
   "outputs": [
    {
     "name": "stdout",
     "output_type": "stream",
     "text": [
      " Aşk\n"
     ]
    }
   ],
   "source": [
    "#bu yöntem için string ve tablo gerekir.\n",
    "string = \"Ömer\"\n",
    "\n",
    "x = \"ermÖ\"\n",
    "y = \"şkA \"\n",
    "mystring = string.maketrans(x , y)\n",
    "print(string.translate(mystring))\n",
    "#stringismi.maketrans la kullanılır."
   ]
  },
  {
   "cell_type": "code",
   "execution_count": 43,
   "id": "7cb5e841",
   "metadata": {},
   "outputs": [
    {
     "data": {
      "text/plain": [
       "'Penne Arabiata'"
      ]
     },
     "execution_count": 43,
     "metadata": {},
     "output_type": "execute_result"
    }
   ],
   "source": [
    "\"penne arabiata\".title()\n",
    "#stringteki kelimelerin baş harlerini büyüt."
   ]
  },
  {
   "cell_type": "code",
   "execution_count": 44,
   "id": "2dd52e94",
   "metadata": {},
   "outputs": [
    {
     "data": {
      "text/plain": [
       "' bIG SMAll '"
      ]
     },
     "execution_count": 44,
     "metadata": {},
     "output_type": "execute_result"
    }
   ],
   "source": [
    "\" Big smaLL \".swapcase()\n",
    "#büyük harfleri küçültür, küçük harleri büyütür."
   ]
  },
  {
   "cell_type": "code",
   "execution_count": 45,
   "id": "29106cb7",
   "metadata": {},
   "outputs": [
    {
     "data": {
      "text/plain": [
       "'Güzel Günler*Göreceğiz'"
      ]
     },
     "execution_count": 45,
     "metadata": {},
     "output_type": "execute_result"
    }
   ],
   "source": [
    "\"*Güzel Günler*Göreceğiz*\".strip(\"*\")\n",
    "#metnin başındaki ve sonundaki karakterleri kaldırır.\n",
    "#argüman girilmezse boşlukları kaldırır.\n"
   ]
  },
  {
   "cell_type": "code",
   "execution_count": 46,
   "id": "e9595c7b",
   "metadata": {},
   "outputs": [
    {
     "data": {
      "text/plain": [
       "True"
      ]
     },
     "execution_count": 46,
     "metadata": {},
     "output_type": "execute_result"
    }
   ],
   "source": [
    "\"isabelle\".startswith(\"i\",0,5)\n",
    "#şu karakterle mi başlıyor ? True, False\n",
    "#içine indeks girilebilir."
   ]
  },
  {
   "cell_type": "code",
   "execution_count": 47,
   "id": "fe15e343",
   "metadata": {},
   "outputs": [
    {
     "data": {
      "text/plain": [
       "'\\na\\nb\\nc'"
      ]
     },
     "execution_count": 47,
     "metadata": {},
     "output_type": "execute_result"
    }
   ],
   "source": [
    "e"
   ]
  },
  {
   "cell_type": "code",
   "execution_count": 48,
   "id": "467ca296",
   "metadata": {},
   "outputs": [
    {
     "data": {
      "text/plain": [
       "['', 'a', 'b', 'c']"
      ]
     },
     "execution_count": 48,
     "metadata": {},
     "output_type": "execute_result"
    }
   ],
   "source": [
    "e.splitlines()\n",
    "#stringi satır başlarından elemanlara ayırır.\n",
    "#liste olarak döndürür."
   ]
  },
  {
   "cell_type": "code",
   "execution_count": 49,
   "id": "e71ba722",
   "metadata": {},
   "outputs": [
    {
     "data": {
      "text/plain": [
       "['lol', 'cs', 'pubg', 'chess']"
      ]
     },
     "execution_count": 49,
     "metadata": {},
     "output_type": "execute_result"
    }
   ],
   "source": [
    "(\"lol cs pubg chess\").split(\" \",3)\n",
    "#stringi belli karakterlerden(örneğin: boşuk) bölerek liste haline getir.\n",
    "#.split(\"karakter\",limit. limitten sonrası dahil değil."
   ]
  },
  {
   "cell_type": "code",
   "execution_count": 50,
   "id": "98ddc9f4",
   "metadata": {},
   "outputs": [
    {
     "data": {
      "text/plain": [
       "' ,Caramel Macchiato'"
      ]
     },
     "execution_count": 50,
     "metadata": {},
     "output_type": "execute_result"
    }
   ],
   "source": [
    "\" ,Caramel Macchiato,,,,,,,,,,,,,,,\".rstrip(\",\")\n",
    "#stringin sonundaki karakterleri kırpar.\n",
    "#argüman verilmezse boşluğu kırpar."
   ]
  },
  {
   "cell_type": "code",
   "execution_count": 51,
   "id": "d5bfd2ea",
   "metadata": {},
   "outputs": [
    {
     "data": {
      "text/plain": [
       "['*', 'cem', 'adrian', '*']"
      ]
     },
     "execution_count": 51,
     "metadata": {},
     "output_type": "execute_result"
    }
   ],
   "source": [
    "\"* cem adrian *\".rsplit(\" \")\n",
    "#ayırıcı karakteri belirtildiğinde stringin bir listesini döndürür."
   ]
  },
  {
   "cell_type": "code",
   "execution_count": 52,
   "id": "4fe56893",
   "metadata": {},
   "outputs": [
    {
     "data": {
      "text/plain": [
       "('red*hot*chili', '*', 'peppers')"
      ]
     },
     "execution_count": 52,
     "metadata": {},
     "output_type": "execute_result"
    }
   ],
   "source": [
    "\"red*hot*chili*peppers\".rpartition(\"*\")\n",
    "#sondan başlayarak verilen karakteri arar.\n",
    "#sonucunda 3 elemanlı bir touple döndürür."
   ]
  },
  {
   "cell_type": "code",
   "execution_count": 53,
   "id": "0f90aa7d",
   "metadata": {},
   "outputs": [
    {
     "data": {
      "text/plain": [
       "'                rose'"
      ]
     },
     "execution_count": 53,
     "metadata": {},
     "output_type": "execute_result"
    }
   ],
   "source": [
    "\"rose\".rjust(20)\n",
    "#stringi sağa dayalı şekilde verilen uzunluğa tamamlar."
   ]
  },
  {
   "cell_type": "code",
   "execution_count": 69,
   "id": "e3d7e212",
   "metadata": {},
   "outputs": [
    {
     "data": {
      "text/plain": [
       "6"
      ]
     },
     "execution_count": 69,
     "metadata": {},
     "output_type": "execute_result"
    }
   ],
   "source": [
    "\"ab bc ab bc\".rindex(\"ab\",0,11)\n",
    "#verilen karakterin son geçtiği indeksi verir.\n",
    "#indeks aralığı girilebilir."
   ]
  },
  {
   "cell_type": "code",
   "execution_count": 75,
   "id": "a9cdf29e",
   "metadata": {},
   "outputs": [
    {
     "data": {
      "text/plain": [
       "6"
      ]
     },
     "execution_count": 75,
     "metadata": {},
     "output_type": "execute_result"
    }
   ],
   "source": [
    "\"ab bc ab bc\".rfind(\"ab\")\n",
    "#.rindex ile aynıdır\n",
    "#istisna olarak .rind karakteri bulamazsa -1 döndürür."
   ]
  },
  {
   "cell_type": "code",
   "execution_count": 78,
   "id": "d85fe2bc",
   "metadata": {},
   "outputs": [
    {
     "data": {
      "text/plain": [
       "'2 2 2 1 1 1'"
      ]
     },
     "execution_count": 78,
     "metadata": {},
     "output_type": "execute_result"
    }
   ],
   "source": [
    "\"1 1 1 1 1 1\".replace(\"1\",\"2\",3)\n",
    "#1 yerine 2 yazdır ilk üç tanesini."
   ]
  },
  {
   "cell_type": "code",
   "execution_count": 84,
   "id": "91e561ec",
   "metadata": {},
   "outputs": [
    {
     "data": {
      "text/plain": [
       "'ders ers rs '"
      ]
     },
     "execution_count": 84,
     "metadata": {},
     "output_type": "execute_result"
    }
   ],
   "source": [
    "\"ders ers rs s\".removesuffix(\"s\")\n",
    "#son ifade şu ise onu stringten at.\n",
    "#değilse aynısını döndür."
   ]
  },
  {
   "cell_type": "code",
   "execution_count": 86,
   "id": "f41ecec0",
   "metadata": {},
   "outputs": [
    {
     "data": {
      "text/plain": [
       "' ers rs s'"
      ]
     },
     "execution_count": 86,
     "metadata": {},
     "output_type": "execute_result"
    }
   ],
   "source": [
    "\"ders ers rs s\".removeprefix(\"ders\")\n",
    "#ilk ifade şu ise onu stringten at.\n",
    "#değilse aynısını döndür."
   ]
  },
  {
   "cell_type": "code",
   "execution_count": 90,
   "id": "727f0bcf",
   "metadata": {
    "scrolled": true
   },
   "outputs": [
    {
     "data": {
      "text/plain": [
       "('der', 's', ' ers rs s s s s')"
      ]
     },
     "execution_count": 90,
     "metadata": {},
     "output_type": "execute_result"
    }
   ],
   "source": [
    "\"ders ers rs s s s s\".partition(\"s\")\n",
    "#belirtilen bir dizeyi arar ve dizeyi üç öğe içeren bir demet halinde böler.\n",
    "#İlk eleman, belirtilen dizgeden önceki kısmı içerir.\n",
    "#İkinci öğe, belirtilen dizeyi içerir.\n",
    "#Üçüncü eleman, dizeden sonraki kısmı içerir."
   ]
  }
 ],
 "metadata": {
  "kernelspec": {
   "display_name": "Python 3 (ipykernel)",
   "language": "python",
   "name": "python3"
  },
  "language_info": {
   "codemirror_mode": {
    "name": "ipython",
    "version": 3
   },
   "file_extension": ".py",
   "mimetype": "text/x-python",
   "name": "python",
   "nbconvert_exporter": "python",
   "pygments_lexer": "ipython3",
   "version": "3.9.13"
  }
 },
 "nbformat": 4,
 "nbformat_minor": 5
}
