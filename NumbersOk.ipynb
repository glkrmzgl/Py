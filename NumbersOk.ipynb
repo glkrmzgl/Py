{
 "cells": [
  {
   "cell_type": "markdown",
   "id": "1237f30f",
   "metadata": {},
   "source": [
    "* tab: metodlar\n",
    "* shift + tab: metodun açıklaması\n",
    "* help(veri ismi yada veri tipi): tüm metod ve özellikler\n",
    "* ifade: pythonda çalıştırılabilen kod"
   ]
  },
  {
   "cell_type": "markdown",
   "id": "c2f53b65",
   "metadata": {},
   "source": [
    "# SAYILAR"
   ]
  },
  {
   "cell_type": "markdown",
   "id": "92d47801",
   "metadata": {},
   "source": [
    "## Integer = Tam Sayılar: \n",
    "Pozitif, negatif, sıfır, gibi tam sayılar. Veri tipidir."
   ]
  },
  {
   "cell_type": "markdown",
   "id": "1c13383d",
   "metadata": {},
   "source": [
    "## Float = Ondalıklı Sayılar:\n",
    "virgüllü sayılar. Veri tipidir."
   ]
  },
  {
   "cell_type": "markdown",
   "id": "4c9fa774",
   "metadata": {},
   "source": [
    "Float ve integer veri tipleriyle, aritmetik operatörler yardımıyla, matematik işlemleri yapılabilir. İşlemler float-float, integer-integer, integer-float olarak yapılabilir."
   ]
  },
  {
   "cell_type": "markdown",
   "id": "f79672ce",
   "metadata": {},
   "source": [
    "toplama(+), çıkarma(-), çarpma(*), bölme(/)"
   ]
  },
  {
   "cell_type": "code",
   "execution_count": 1,
   "id": "fb3b8ba0",
   "metadata": {},
   "outputs": [
    {
     "data": {
      "text/plain": [
       "6.300000000000001"
      ]
     },
     "execution_count": 1,
     "metadata": {},
     "output_type": "execute_result"
    }
   ],
   "source": [
    "2.1 + 4.2\n",
    "#python bazı işlemlerin sonucunu daha iyi işlem yapabilmek için bu şekilde gösterir"
   ]
  },
  {
   "cell_type": "markdown",
   "id": "579bf303",
   "metadata": {},
   "source": [
    "### Değişken: Bir veri tipinden değer tutan birim\n",
    "\n",
    "değişken ismi = değişkenin değeri\n",
    "\n",
    "Değişken tanımlamaya atama işlemi denir.\n",
    "\n",
    "Tanımlanan değişken çalıştırıldığında bize değerini verir.\n",
    "\n",
    "Pythonda değişkenler dinamik olarak değişir. Aynı ismi farklı değer yada farklı veri tipine atayabiliriz."
   ]
  },
  {
   "cell_type": "code",
   "execution_count": 2,
   "id": "b8497570",
   "metadata": {},
   "outputs": [],
   "source": [
    "#değişkenler üzerinden değişken atama değişkenlerle işlem yapma mümkün\n",
    "a = 1\n",
    "b = 2\n",
    "c = a * 2 + b"
   ]
  },
  {
   "cell_type": "code",
   "execution_count": 3,
   "id": "57752b82",
   "metadata": {},
   "outputs": [
    {
     "data": {
      "text/plain": [
       "4"
      ]
     },
     "execution_count": 3,
     "metadata": {},
     "output_type": "execute_result"
    }
   ],
   "source": [
    "c"
   ]
  },
  {
   "cell_type": "markdown",
   "id": "9d76322e",
   "metadata": {},
   "source": [
    "### Değişken Adlandırma Kuralları\n",
    "* sayı ile başlayamaz\n",
    "* boşluk kullanılamaz\n",
    "* kullanılan tek sembol alt tiredir\n",
    "* pythonda tanımlı anahtar kelime olamaz"
   ]
  },
  {
   "cell_type": "code",
   "execution_count": 4,
   "id": "9279b659",
   "metadata": {},
   "outputs": [],
   "source": [
    "ç = 10\n",
    "d = 20"
   ]
  },
  {
   "cell_type": "code",
   "execution_count": 5,
   "id": "f4a40e84",
   "metadata": {},
   "outputs": [],
   "source": [
    "#iki değişkenin değerini birbiriyle değiştirme\n",
    "ç,d = d,ç"
   ]
  },
  {
   "cell_type": "code",
   "execution_count": 6,
   "id": "06018e28",
   "metadata": {},
   "outputs": [
    {
     "data": {
      "text/plain": [
       "20"
      ]
     },
     "execution_count": 6,
     "metadata": {},
     "output_type": "execute_result"
    }
   ],
   "source": [
    "ç"
   ]
  },
  {
   "cell_type": "code",
   "execution_count": 7,
   "id": "0b100a0f",
   "metadata": {},
   "outputs": [
    {
     "data": {
      "text/plain": [
       "10"
      ]
     },
     "execution_count": 7,
     "metadata": {},
     "output_type": "execute_result"
    }
   ],
   "source": [
    "d"
   ]
  },
  {
   "cell_type": "code",
   "execution_count": 8,
   "id": "606bce86",
   "metadata": {},
   "outputs": [],
   "source": [
    "#değişken üzerinde yapılan işlem\n",
    "ç = ç + 5"
   ]
  },
  {
   "cell_type": "code",
   "execution_count": 9,
   "id": "fa6e2ad4",
   "metadata": {},
   "outputs": [
    {
     "data": {
      "text/plain": [
       "25"
      ]
     },
     "execution_count": 9,
     "metadata": {},
     "output_type": "execute_result"
    }
   ],
   "source": [
    "ç"
   ]
  },
  {
   "cell_type": "code",
   "execution_count": 10,
   "id": "ebe13c9d",
   "metadata": {},
   "outputs": [],
   "source": [
    "#pythonda diğer yolu\n",
    "#değişken, değişkene yapılacak işlem, =, hangi sayıyla yapılacak;\n",
    "#burda kullanılan += bir atama operatörüdür.\n",
    "ç += 5"
   ]
  },
  {
   "cell_type": "code",
   "execution_count": 11,
   "id": "84a28742",
   "metadata": {},
   "outputs": [
    {
     "data": {
      "text/plain": [
       "30"
      ]
     },
     "execution_count": 11,
     "metadata": {},
     "output_type": "execute_result"
    }
   ],
   "source": [
    "ç"
   ]
  },
  {
   "cell_type": "markdown",
   "id": "22c415e4",
   "metadata": {},
   "source": [
    "\"\"\"\n",
    "\n",
    "çoklu yorum satırı\n",
    "\n",
    "\"\"\"\""
   ]
  },
  {
   "cell_type": "markdown",
   "id": "f919e64d",
   "metadata": {},
   "source": [
    "### Farklı İşlemler\n",
    "* % mod alma, bölümünden kalan\n",
    "* // tam  bölme\n",
    "* ** üs alma\n",
    "* kare kök üssü 1/2 olduğu için ** (1/2) ile alınır\n",
    "* işaret değiştirmek için a değişkenini -a olarak tanımlayabiliriz"
   ]
  },
  {
   "cell_type": "code",
   "execution_count": 12,
   "id": "9fd54d42",
   "metadata": {},
   "outputs": [
    {
     "data": {
      "text/plain": [
       "1"
      ]
     },
     "execution_count": 12,
     "metadata": {},
     "output_type": "execute_result"
    }
   ],
   "source": [
    "10 % 3"
   ]
  },
  {
   "cell_type": "code",
   "execution_count": 13,
   "id": "2c3637f1",
   "metadata": {},
   "outputs": [
    {
     "data": {
      "text/plain": [
       "2.0"
      ]
     },
     "execution_count": 13,
     "metadata": {},
     "output_type": "execute_result"
    }
   ],
   "source": [
    "4.2 // 2\n",
    "#sayı çift mi tekmi üçe vb. tam bölünüyormu gibi sorularda yardımcı olur"
   ]
  },
  {
   "cell_type": "code",
   "execution_count": 14,
   "id": "1c04c272",
   "metadata": {},
   "outputs": [
    {
     "data": {
      "text/plain": [
       "9"
      ]
     },
     "execution_count": 14,
     "metadata": {},
     "output_type": "execute_result"
    }
   ],
   "source": [
    "3 ** 2"
   ]
  },
  {
   "cell_type": "code",
   "execution_count": 15,
   "id": "c84356ac",
   "metadata": {},
   "outputs": [
    {
     "data": {
      "text/plain": [
       "3.0"
      ]
     },
     "execution_count": 15,
     "metadata": {},
     "output_type": "execute_result"
    }
   ],
   "source": [
    "9 ** (1/2)"
   ]
  },
  {
   "cell_type": "code",
   "execution_count": 16,
   "id": "7c3fdfb6",
   "metadata": {},
   "outputs": [
    {
     "data": {
      "text/plain": [
       "-77"
      ]
     },
     "execution_count": 16,
     "metadata": {},
     "output_type": "execute_result"
    }
   ],
   "source": [
    "d = 77\n",
    "-d"
   ]
  },
  {
   "cell_type": "markdown",
   "id": "ee561716",
   "metadata": {},
   "source": [
    "## Operatörleri Beraber Kullanma ve İşlem Sırası\n",
    "* parantez içi önce yapılır\n",
    "* çarpma ve bölme toplama ve çıkarmadan önce yapılır\n",
    "* soldan sağa ilerler"
   ]
  },
  {
   "cell_type": "markdown",
   "id": "d4d130cd",
   "metadata": {},
   "source": [
    "# METHODS İNTEGER"
   ]
  },
  {
   "cell_type": "markdown",
   "id": "a37c8db2",
   "metadata": {},
   "source": [
    "bit_length()\n",
    "Bilgisayarlar ancak sayılarla işlem yapabilir. Bilgisayarların işlem yapabildiği sayılar da onlu sistemdeki sayılar değil, ikili sistemdeki sayılardır. Yani 0’lar ve 1’ler.\n",
    "\n",
    "Bilgisayar terminolojisinde bu 0’lar ve 1’lerden oluşan herbir basamağa ‘bit’ adı verilir. Yani ikili sayma sisteminde ‘0’ ve ‘1’ sayılarından herbiri 1 bit’tir. Mesela onlu sistemde 2 sayısının ikili sistemdeki karşılığı olan 10 sayısı iki bit’lik bir sayıdır. Onlu sistemdeki 100 sayısının ikili sistemdeki karşılığı olan 1100100 sayısı ise yedi bitlik bir sayıdır. Herhangi bir tam sayının kaç bit’lik bir yer kapladığını öğrenmek için kullanılır."
   ]
  },
  {
   "cell_type": "code",
   "execution_count": 17,
   "id": "1be7cd0d",
   "metadata": {},
   "outputs": [],
   "source": [
    "e = 12345678910\n"
   ]
  },
  {
   "cell_type": "code",
   "execution_count": 18,
   "id": "9b6a41f0",
   "metadata": {},
   "outputs": [
    {
     "data": {
      "text/plain": [
       "34"
      ]
     },
     "execution_count": 18,
     "metadata": {},
     "output_type": "execute_result"
    }
   ],
   "source": [
    "e.bit_length()"
   ]
  },
  {
   "cell_type": "code",
   "execution_count": 19,
   "id": "0e8c1646",
   "metadata": {},
   "outputs": [
    {
     "data": {
      "text/plain": [
       "12345678910"
      ]
     },
     "execution_count": 19,
     "metadata": {},
     "output_type": "execute_result"
    }
   ],
   "source": [
    "e.real"
   ]
  },
  {
   "cell_type": "markdown",
   "id": "899f3fa4",
   "metadata": {},
   "source": [
    "as_integer_ratio() sayı ve sayının paydasındaki sayıyı gösterir. Tam sayılar için 1 dir."
   ]
  },
  {
   "cell_type": "code",
   "execution_count": 20,
   "id": "2ad50e0d",
   "metadata": {},
   "outputs": [
    {
     "data": {
      "text/plain": [
       "(12345678910, 1)"
      ]
     },
     "execution_count": 20,
     "metadata": {},
     "output_type": "execute_result"
    }
   ],
   "source": [
    "e.as_integer_ratio()"
   ]
  },
  {
   "cell_type": "markdown",
   "id": "1e5fbd0c",
   "metadata": {},
   "source": [
    "to_bytes() \n",
    "\n",
    "int.to_bytes(length = 1 , byteorder = 'big' yada 'small',  signed = True yada False) şeklinde kullanılır.\n",
    "\n",
    "Bir tamsayıyı temsil eden bir bayt dizisi döndürür.\n"
   ]
  },
  {
   "cell_type": "code",
   "execution_count": 21,
   "id": "31108d43",
   "metadata": {},
   "outputs": [
    {
     "data": {
      "text/plain": [
       "b'\\x04\\x00'"
      ]
     },
     "execution_count": 21,
     "metadata": {},
     "output_type": "execute_result"
    }
   ],
   "source": [
    "(1024).to_bytes(2, byteorder='big')"
   ]
  },
  {
   "cell_type": "markdown",
   "id": "7b989bed",
   "metadata": {},
   "source": [
    ".conjugate sayının sanal kısmının işaretini değiştiriyor. Numpyle birlikte aktif edebildim.ARAŞTIR"
   ]
  },
  {
   "cell_type": "code",
   "execution_count": 22,
   "id": "13fc67e3",
   "metadata": {},
   "outputs": [],
   "source": [
    "import numpy as np"
   ]
  },
  {
   "cell_type": "code",
   "execution_count": 28,
   "id": "15727a88",
   "metadata": {},
   "outputs": [
    {
     "data": {
      "text/plain": [
       "(1-2j)"
      ]
     },
     "execution_count": 28,
     "metadata": {},
     "output_type": "execute_result"
    }
   ],
   "source": [
    "np.conjugate(1+2j)"
   ]
  },
  {
   "cell_type": "code",
   "execution_count": 24,
   "id": "309e1105",
   "metadata": {},
   "outputs": [
    {
     "data": {
      "text/plain": [
       "(1+2j)"
      ]
     },
     "execution_count": 24,
     "metadata": {},
     "output_type": "execute_result"
    }
   ],
   "source": [
    "np.conjugate(1-2j)"
   ]
  },
  {
   "cell_type": "markdown",
   "id": "c4f8d976",
   "metadata": {},
   "source": [
    ".denominator integerin paydasındaki sayıyı gösteriyor. Her zaman 1. ARAŞTIRILABİLİR"
   ]
  },
  {
   "cell_type": "code",
   "execution_count": 25,
   "id": "b2db0fc4",
   "metadata": {},
   "outputs": [],
   "source": [
    "f = int()"
   ]
  },
  {
   "cell_type": "code",
   "execution_count": 26,
   "id": "d03939c2",
   "metadata": {},
   "outputs": [
    {
     "data": {
      "text/plain": [
       "1"
      ]
     },
     "execution_count": 26,
     "metadata": {},
     "output_type": "execute_result"
    }
   ],
   "source": [
    "f.denominator"
   ]
  },
  {
   "cell_type": "markdown",
   "id": "55d022b9",
   "metadata": {},
   "source": [
    "from_bytes byte ı sayı dizisine dönüştürür. ARAŞTIR"
   ]
  },
  {
   "cell_type": "code",
   "execution_count": 47,
   "id": "fc0dd257",
   "metadata": {},
   "outputs": [],
   "source": [
    "g = b'\\xe4\\x86\\xaaU'"
   ]
  },
  {
   "cell_type": "code",
   "execution_count": 48,
   "id": "dacb860e",
   "metadata": {},
   "outputs": [
    {
     "name": "stdout",
     "output_type": "stream",
     "text": [
      "3834030677\n"
     ]
    }
   ],
   "source": [
    "print(int.from_bytes(g, byteorder = 'big', signed = False))\n"
   ]
  },
  {
   "cell_type": "markdown",
   "id": "77490c7c",
   "metadata": {},
   "source": [
    ".imag sanal kısmın katsayısını işaretiyle birlikte döndürür."
   ]
  },
  {
   "cell_type": "code",
   "execution_count": 49,
   "id": "8df15fba",
   "metadata": {},
   "outputs": [
    {
     "data": {
      "text/plain": [
       "2.0"
      ]
     },
     "execution_count": 49,
     "metadata": {},
     "output_type": "execute_result"
    }
   ],
   "source": [
    "(5+2j).imag"
   ]
  },
  {
   "cell_type": "markdown",
   "id": "6cc70985",
   "metadata": {},
   "source": [
    ".numerator integerin kendisini yani payında bulunan sayıyı döndürür."
   ]
  },
  {
   "cell_type": "code",
   "execution_count": 50,
   "id": "4c9a6823",
   "metadata": {},
   "outputs": [
    {
     "data": {
      "text/plain": [
       "5"
      ]
     },
     "execution_count": 50,
     "metadata": {},
     "output_type": "execute_result"
    }
   ],
   "source": [
    "(5).numerator"
   ]
  },
  {
   "cell_type": "markdown",
   "id": "a2905ed2",
   "metadata": {},
   "source": [
    ".real sayının gerçek olan kısmını döndürür."
   ]
  },
  {
   "cell_type": "code",
   "execution_count": 51,
   "id": "40386d13",
   "metadata": {},
   "outputs": [
    {
     "data": {
      "text/plain": [
       "7.0"
      ]
     },
     "execution_count": 51,
     "metadata": {},
     "output_type": "execute_result"
    }
   ],
   "source": [
    "(7+5j).real"
   ]
  },
  {
   "cell_type": "markdown",
   "id": "03a20227",
   "metadata": {},
   "source": [
    "# METHODS FLOAT"
   ]
  },
  {
   "cell_type": "markdown",
   "id": "abc928ce",
   "metadata": {},
   "source": [
    ".fromhex byte sayı dönüşümü. ARAŞTIR"
   ]
  },
  {
   "cell_type": "code",
   "execution_count": 65,
   "id": "c27d7229",
   "metadata": {},
   "outputs": [
    {
     "data": {
      "text/plain": [
       "3740.0"
      ]
     },
     "execution_count": 65,
     "metadata": {},
     "output_type": "execute_result"
    }
   ],
   "source": [
    "float.fromhex('0x3.a7p10')"
   ]
  },
  {
   "cell_type": "markdown",
   "id": "1aaab5ca",
   "metadata": {},
   "source": [
    ".hex sayı byte dönüşümü. ARAŞTIR"
   ]
  },
  {
   "cell_type": "code",
   "execution_count": 67,
   "id": "e4526fbd",
   "metadata": {},
   "outputs": [
    {
     "data": {
      "text/plain": [
       "'0x1.d380000000000p+11'"
      ]
     },
     "execution_count": 67,
     "metadata": {},
     "output_type": "execute_result"
    }
   ],
   "source": [
    "float.hex(3740.0)"
   ]
  },
  {
   "cell_type": "markdown",
   "id": "c9a8da62",
   "metadata": {},
   "source": [
    ".is_integer() integer mı ? True False"
   ]
  },
  {
   "cell_type": "code",
   "execution_count": 70,
   "id": "c983b9b9",
   "metadata": {},
   "outputs": [
    {
     "data": {
      "text/plain": [
       "False"
      ]
     },
     "execution_count": 70,
     "metadata": {},
     "output_type": "execute_result"
    }
   ],
   "source": [
    "(30.2).is_integer()"
   ]
  }
 ],
 "metadata": {
  "kernelspec": {
   "display_name": "Python 3 (ipykernel)",
   "language": "python",
   "name": "python3"
  },
  "language_info": {
   "codemirror_mode": {
    "name": "ipython",
    "version": 3
   },
   "file_extension": ".py",
   "mimetype": "text/x-python",
   "name": "python",
   "nbconvert_exporter": "python",
   "pygments_lexer": "ipython3",
   "version": "3.9.13"
  }
 },
 "nbformat": 4,
 "nbformat_minor": 5
}
